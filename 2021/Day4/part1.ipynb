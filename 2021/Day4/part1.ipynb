{
 "cells": [
  {
   "cell_type": "markdown",
   "metadata": {},
   "source": [
    "### Import NumPy"
   ]
  },
  {
   "cell_type": "code",
   "execution_count": 127,
   "metadata": {},
   "outputs": [
    {
     "name": "stdout",
     "output_type": "stream",
     "text": [
      "1.23.4\n"
     ]
    }
   ],
   "source": [
    "import numpy as np\n",
    "\n",
    "print(np.__version__)"
   ]
  },
  {
   "cell_type": "markdown",
   "metadata": {},
   "source": [
    "### Funktion um das Bingo-Board in ein NumPy-Array zu mappen"
   ]
  },
  {
   "cell_type": "code",
   "execution_count": 123,
   "metadata": {},
   "outputs": [],
   "source": [
    "def mapToNumpyArray(board: str):\n",
    "\n",
    "    lines = list(map(lambda line: line.replace('  ', ' ').strip() , board.split('\\n')))\n",
    "\n",
    "    board_as_array = list(map(lambda line: list(map(lambda number: int(number), str(line).split(' '))), lines))\n",
    "\n",
    "    return np.array(board_as_array)"
   ]
  },
  {
   "cell_type": "markdown",
   "metadata": {},
   "source": [
    "### Input auslesen (Gezogene Nummer und Bingo-Felder)"
   ]
  },
  {
   "cell_type": "code",
   "execution_count": 124,
   "metadata": {},
   "outputs": [
    {
     "name": "stdout",
     "output_type": "stream",
     "text": [
      "[7, 4, 9, 5, 11, 17, 23, 2, 0, 14]\n",
      "[array([[22, 13, 17, 11,  0],\n",
      "       [ 8,  2, 23,  4, 24],\n",
      "       [21,  9, 14, 16,  7],\n",
      "       [ 6, 10,  3, 18,  5],\n",
      "       [ 1, 12, 20, 15, 19]])]\n"
     ]
    }
   ],
   "source": [
    "input = open(\"input_part1.txt\", \"r\")\n",
    "content = input.read().split('\\n\\n')\n",
    "input.close\n",
    "\n",
    "\n",
    "drawn_numbers = list(map(lambda string: int(string), content[0].split(',')))\n",
    "boards = list(map(mapToNumpyArray, content[1:]))\n",
    "\n",
    "print(drawn_numbers[:10])\n",
    "print(boards[:1])"
   ]
  },
  {
   "cell_type": "markdown",
   "metadata": {},
   "source": [
    "### Siegbedingung überprüfen"
   ]
  },
  {
   "cell_type": "code",
   "execution_count": 125,
   "metadata": {},
   "outputs": [],
   "source": [
    "def checkWinningCondition(board: np.ndarray):\n",
    "    sum_rows = np.where(board.sum(axis=0) == 500)\n",
    "    sum_columns = np.where(board.sum(axis=1) == 500)\n",
    "\n",
    "    if not sum_rows.__sizeof__ == 0:\n",
    "        print(sum_rows)\n",
    "\n",
    "    # return True"
   ]
  },
  {
   "cell_type": "markdown",
   "metadata": {},
   "source": [
    "### Zahlen ziehen und in den Boards finden"
   ]
  },
  {
   "cell_type": "code",
   "execution_count": 126,
   "metadata": {},
   "outputs": [
    {
     "name": "stdout",
     "output_type": "stream",
     "text": [
      "(array([], dtype=int64),)\n",
      "(array([], dtype=int64),)\n",
      "(array([], dtype=int64),)\n",
      "(array([], dtype=int64),)\n",
      "(array([], dtype=int64),)\n",
      "(array([], dtype=int64),)\n",
      "(array([], dtype=int64),)\n",
      "(array([], dtype=int64),)\n",
      "(array([], dtype=int64),)\n",
      "(array([], dtype=int64),)\n",
      "(array([], dtype=int64),)\n",
      "(array([], dtype=int64),)\n",
      "(array([], dtype=int64),)\n",
      "(array([], dtype=int64),)\n",
      "(array([], dtype=int64),)\n",
      "(array([], dtype=int64),)\n",
      "(array([], dtype=int64),)\n",
      "(array([], dtype=int64),)\n",
      "(array([], dtype=int64),)\n",
      "(array([], dtype=int64),)\n",
      "(array([], dtype=int64),)\n",
      "(array([], dtype=int64),)\n",
      "(array([], dtype=int64),)\n",
      "(array([], dtype=int64),)\n",
      "(array([], dtype=int64),)\n",
      "(array([], dtype=int64),)\n",
      "(array([], dtype=int64),)\n",
      "(array([], dtype=int64),)\n",
      "(array([], dtype=int64),)\n",
      "(array([], dtype=int64),)\n",
      "(array([], dtype=int64),)\n",
      "(array([], dtype=int64),)\n",
      "(array([], dtype=int64),)\n",
      "(array([], dtype=int64),)\n",
      "(array([], dtype=int64),)\n",
      "(array([], dtype=int64),)\n",
      "(array([], dtype=int64),)\n",
      "(array([], dtype=int64),)\n",
      "(array([], dtype=int64),)\n",
      "(array([], dtype=int64),)\n",
      "(array([], dtype=int64),)\n",
      "(array([], dtype=int64),)\n",
      "(array([], dtype=int64),)\n",
      "(array([2], dtype=int64),)\n",
      "(array([], dtype=int64),)\n",
      "[array([[ 22, 100, 100, 100, 100],\n",
      "       [  8, 100, 100, 100, 100],\n",
      "       [100, 100, 100, 100, 100],\n",
      "       [  6, 100,   3,  18, 100],\n",
      "       [  1,  12,  20,  15,  19]]), array([[  3,  15, 100, 100,  22],\n",
      "       [100,  18, 100, 100, 100],\n",
      "       [ 19,   8, 100,  25, 100],\n",
      "       [ 20, 100, 100, 100, 100],\n",
      "       [100, 100, 100,  12,   6]]), array([[100, 100, 100, 100, 100],\n",
      "       [100, 100,  15, 100,  19],\n",
      "       [ 18,   8, 100,  26,  20],\n",
      "       [ 22, 100, 100,   6, 100],\n",
      "       [100, 100,  12,   3, 100]])]\n"
     ]
    }
   ],
   "source": [
    "for number in drawn_numbers[:15]:\n",
    "\n",
    "    for board in boards:\n",
    "        find = np.where(board == number)\n",
    "        coordinates = list(zip(find[0], find[1]))\n",
    "\n",
    "        if coordinates:\n",
    "            board[coordinates[0]] = 100\n",
    "            check = checkWinningCondition(board)\n",
    "            if check:\n",
    "                break\n",
    "    else:\n",
    "        continue\n",
    "    break\n",
    "\n",
    "print(boards)"
   ]
  }
 ],
 "metadata": {
  "kernelspec": {
   "display_name": "Python 3.11.0 64-bit",
   "language": "python",
   "name": "python3"
  },
  "language_info": {
   "codemirror_mode": {
    "name": "ipython",
    "version": 3
   },
   "file_extension": ".py",
   "mimetype": "text/x-python",
   "name": "python",
   "nbconvert_exporter": "python",
   "pygments_lexer": "ipython3",
   "version": "3.11.0"
  },
  "orig_nbformat": 4,
  "vscode": {
   "interpreter": {
    "hash": "c261aea317cc0286b3b3261fbba9abdec21eaa57589985bb7a274bf54d6cc0a7"
   }
  }
 },
 "nbformat": 4,
 "nbformat_minor": 2
}
