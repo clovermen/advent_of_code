{
 "cells": [
  {
   "cell_type": "markdown",
   "metadata": {},
   "source": [
    "### Import NumPy"
   ]
  },
  {
   "cell_type": "code",
   "execution_count": 27,
   "metadata": {},
   "outputs": [],
   "source": [
    "import numpy as np\n",
    "import copy"
   ]
  },
  {
   "cell_type": "markdown",
   "metadata": {},
   "source": [
    "### Funktion um das Bingo-Board in ein NumPy-Array zu mappen"
   ]
  },
  {
   "cell_type": "code",
   "execution_count": 17,
   "metadata": {},
   "outputs": [],
   "source": [
    "def mapToNumpyArray(board: str):\n",
    "\n",
    "    lines = list(map(lambda line: line.replace('  ', ' ').strip() , board.split('\\n')))\n",
    "    \n",
    "    board_as_array = list(map(lambda line: str(line).split(' ')), lines)\n",
    "\n",
    "    return np.array(board_as_array)"
   ]
  },
  {
   "cell_type": "markdown",
   "metadata": {},
   "source": [
    "### Input auslesen (Gezogene Nummer und Bingo-Felder)"
   ]
  },
  {
   "cell_type": "code",
   "execution_count": 28,
   "metadata": {},
   "outputs": [
    {
     "name": "stdout",
     "output_type": "stream",
     "text": [
      "[7, 4, 9, 5, 11, 17, 23, 2, 0, 14]\n",
      "[array([[22, 13, 17, 11,  0],\n",
      "       [ 8,  2, 23,  4, 24],\n",
      "       [21,  9, 14, 16,  7],\n",
      "       [ 6, 10,  3, 18,  5],\n",
      "       [ 1, 12, 20, 15, 19]])]\n",
      "[array([[22,  8, 21,  6,  1],\n",
      "       [13,  2,  9, 10, 12],\n",
      "       [17, 23, 14,  3, 20],\n",
      "       [11,  4, 16, 18, 15],\n",
      "       [ 0, 24,  7,  5, 19]])]\n"
     ]
    }
   ],
   "source": [
    "input = open(\"input_part1.txt\", \"r\")\n",
    "content = input.read().split('\\n\\n')\n",
    "input.close\n",
    "\n",
    "\n",
    "drawn_numbers = list(map(lambda string: int(string), content[0].split(',')))\n",
    "original_boards = list(map(mapToNumpyArray, content[1:]))\n",
    "\n",
    "boards_copy = copy.deepcopy(original_boards)\n",
    "boards_transposed = list(map(lambda board: board.transpose(), boards))\n",
    "\n",
    "\n",
    "print(drawn_numbers[:10])\n",
    "print(boards_copy[:1])\n",
    "print(boards_transposed[:1])"
   ]
  },
  {
   "cell_type": "markdown",
   "metadata": {},
   "source": [
    "### Funktion um "
   ]
  }
 ],
 "metadata": {
  "kernelspec": {
   "display_name": "Python 3.11.0 64-bit",
   "language": "python",
   "name": "python3"
  },
  "language_info": {
   "codemirror_mode": {
    "name": "ipython",
    "version": 3
   },
   "file_extension": ".py",
   "mimetype": "text/x-python",
   "name": "python",
   "nbconvert_exporter": "python",
   "pygments_lexer": "ipython3",
   "version": "3.11.0"
  },
  "orig_nbformat": 4,
  "vscode": {
   "interpreter": {
    "hash": "c261aea317cc0286b3b3261fbba9abdec21eaa57589985bb7a274bf54d6cc0a7"
   }
  }
 },
 "nbformat": 4,
 "nbformat_minor": 2
}
